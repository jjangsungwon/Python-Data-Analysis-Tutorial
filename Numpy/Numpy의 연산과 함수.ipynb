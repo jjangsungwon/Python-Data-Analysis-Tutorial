{
 "cells": [
  {
   "cell_type": "markdown",
   "metadata": {},
   "source": [
    "## Numpy의 연산과 함수"
   ]
  },
  {
   "cell_type": "markdown",
   "metadata": {},
   "source": [
    "Python의 Numpy 라이브러리는 기본적인  상수 연산이 가능합니다."
   ]
  },
  {
   "cell_type": "code",
   "execution_count": 3,
   "metadata": {},
   "outputs": [
    {
     "name": "stdout",
     "output_type": "stream",
     "text": [
      "[[12 11]\n",
      " [13 12]]\n",
      "[[-8 -9]\n",
      " [-7 -8]]\n",
      "[[20 10]\n",
      " [30 20]]\n",
      "[[0.2 0.1]\n",
      " [0.3 0.2]]\n"
     ]
    }
   ],
   "source": [
    "import numpy as np\n",
    "\n",
    "array = np.random.randint(1, 10, size=4).reshape(2, 2)\n",
    "\n",
    "# 덧셈\n",
    "add_array = array + 10\n",
    "print(add_array)\n",
    "\n",
    "# 뺄셈\n",
    "sub_array = array - 10\n",
    "print(sub_array)\n",
    "\n",
    "# 곱셈\n",
    "mul_array = array * 10\n",
    "print(mul_array)\n",
    "\n",
    "# 나눗셈\n",
    "div_array = array / 10\n",
    "print(div_array)"
   ]
  },
  {
   "cell_type": "markdown",
   "metadata": {},
   "source": [
    "**서로 다른 형태의 Numpy 연산**이 가능합니다.\n",
    "- Numpy는 서로 다른 형태의 배열을 연산할 때는 행 우선으로 수행됩니다.\n",
    "- 행이 동일할 경우에는 열을 동적으로 변환하여 연산이 수행됩니다.\n",
    "- **브로드캐스트**: 형태가 다른 배열을 연산할 수 있도록 배열의 형태를 동적으로 변환"
   ]
  },
  {
   "cell_type": "code",
   "execution_count": 4,
   "metadata": {},
   "outputs": [
    {
     "name": "stdout",
     "output_type": "stream",
     "text": [
      "[[0 2]\n",
      " [2 4]]\n"
     ]
    }
   ],
   "source": [
    "import numpy as np\n",
    "\n",
    "array1 = np.arange(4).reshape(2, 2)\n",
    "array2 = np.arange(2)\n",
    "array3 = array1 + array2\n",
    "\n",
    "print(array3)"
   ]
  },
  {
   "cell_type": "markdown",
   "metadata": {},
   "source": [
    "Numpy는 **마스킹 연산**이 가능합니다."
   ]
  },
  {
   "cell_type": "code",
   "execution_count": 7,
   "metadata": {},
   "outputs": [
    {
     "name": "stdout",
     "output_type": "stream",
     "text": [
      "[[ 0  1  2  3]\n",
      " [ 4  5  6  7]\n",
      " [ 8  9 10 11]\n",
      " [12 13 14 15]]\n",
      "[[ True  True  True  True]\n",
      " [ True  True  True  True]\n",
      " [ True  True False False]\n",
      " [False False False False]]\n",
      "[[100 100 100 100]\n",
      " [100 100 100 100]\n",
      " [100 100  10  11]\n",
      " [ 12  13  14  15]]\n"
     ]
    }
   ],
   "source": [
    "import numpy\n",
    "\n",
    "# Numpy 원소의 값을 조건에 따라 바꿀 때는 다음과 같이 합니다.\n",
    "# 대체로 이미지 처리(Image Processing)에서 자주 활용됩니다.\n",
    "\n",
    "array1 = np.arange(16).reshape(4, 4)\n",
    "print(array1)\n",
    "\n",
    "array2 = array1 < 10\n",
    "print(array2)\n",
    "\n",
    "array1[array2] = 100\n",
    "print(array1)"
   ]
  },
  {
   "cell_type": "markdown",
   "metadata": {},
   "source": [
    "Numpy는 **다양한 집계 함수**가 존재합니다."
   ]
  },
  {
   "cell_type": "code",
   "execution_count": 8,
   "metadata": {},
   "outputs": [
    {
     "name": "stdout",
     "output_type": "stream",
     "text": [
      "최대값: 15\n",
      "최소값: 0\n",
      "합계: 120\n",
      "평균값: 7.5\n"
     ]
    }
   ],
   "source": [
    "import numpy as np\n",
    "\n",
    "array = np.arange(16).reshape(4, 4)\n",
    "\n",
    "print(\"최대값:\", np.max(array))\n",
    "print(\"최소값:\", np.min(array))\n",
    "print(\"합계:\", np.sum(array))\n",
    "print(\"평균값:\", np.mean(array))"
   ]
  },
  {
   "cell_type": "markdown",
   "metadata": {},
   "source": [
    "Numpy 원소들은 특정한 기준에 따라서 **정렬**할 수 있습니다."
   ]
  },
  {
   "cell_type": "code",
   "execution_count": 13,
   "metadata": {},
   "outputs": [
    {
     "name": "stdout",
     "output_type": "stream",
     "text": [
      "[ 1  3  5  9 10]\n",
      "[10  9  5  3  1]\n",
      "[[ 5  3  4  2  1]\n",
      " [ 8  9 10  3  5]]\n"
     ]
    }
   ],
   "source": [
    "import numpy as np\n",
    "\n",
    "# Numpy 원소 오름차순 정렬\n",
    "array = np.array([5, 9, 10, 3, 1])\n",
    "array.sort()\n",
    "print(array)\n",
    "\n",
    "# Numpy 원소 내림차순 정렬\n",
    "array = np.array([5, 9, 10, 3, 1])\n",
    "array.sort()\n",
    "print(array[::-1])\n",
    "\n",
    "# 각 행을 기준으로 정렬\n",
    "array = np.array([[5, 9, 10, 3, 1], [8, 3, 4, 2, 5]])\n",
    "array.sort(axis=0)\n",
    "print(array)"
   ]
  },
  {
   "cell_type": "markdown",
   "metadata": {},
   "source": [
    "Numpy 관련 자주 사용되는 함수는 다음과 같습니다."
   ]
  },
  {
   "cell_type": "code",
   "execution_count": 14,
   "metadata": {},
   "outputs": [
    {
     "name": "stdout",
     "output_type": "stream",
     "text": [
      "[ 0.   2.5  5.   7.5 10. ]\n",
      "[[4 9 6]\n",
      " [3 3 7]]\n",
      "[0 1 2 3 4 5 6 7 8 9]\n",
      "[1 2 3]\n"
     ]
    }
   ],
   "source": [
    "import numpy as np\n",
    "\n",
    "# 균일한 간격으로 데이터 생성\n",
    "array = np.linspace(0, 10, 5)\n",
    "print(array)\n",
    "\n",
    "# 난수의 재연(실행마다 결과 동일)\n",
    "np.random.seed(7)\n",
    "print(np.random.randint(0, 10, (2, 3)))\n",
    "\n",
    "# Numpy 배열 객체 복사\n",
    "array1 = np.arange(0, 10)\n",
    "array2 = array1.copy()\n",
    "print(array2)\n",
    "\n",
    "# 중복된 원소 제거\n",
    "array = np.array([1, 1, 2, 3, 3, 3, 1])\n",
    "print(np.unique(array))"
   ]
  }
 ],
 "metadata": {
  "kernelspec": {
   "display_name": "Python 3",
   "language": "python",
   "name": "python3"
  },
  "language_info": {
   "codemirror_mode": {
    "name": "ipython",
    "version": 3
   },
   "file_extension": ".py",
   "mimetype": "text/x-python",
   "name": "python",
   "nbconvert_exporter": "python",
   "pygments_lexer": "ipython3",
   "version": "3.8.3"
  }
 },
 "nbformat": 4,
 "nbformat_minor": 4
}
