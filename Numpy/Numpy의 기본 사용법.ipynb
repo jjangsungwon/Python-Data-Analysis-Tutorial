{
 "cells": [
  {
   "cell_type": "markdown",
   "metadata": {},
   "source": [
    "# Numpy란?\n",
    "- Numpy는 다차원 배열을 효과적으로 처리할 수 있도록 도와주는 도구입니다.\n",
    "- 현실 세계의 다양한 데이터는 배열 형태로 표현할 수 있습니다.\n",
    "- Python의 기본 List에 비해 빠르고 강력한 기능을 제공합니다."
   ]
  },
  {
   "cell_type": "markdown",
   "metadata": {},
   "source": [
    "## Numpy의 차원\n",
    "- 1차원 축(행): axis 0 => Vector\n",
    "- 2차원 축(열): axis 1 => Matrix(행렬)\n",
    "- 3차원 축(채널): axis 2 => Tensor(3차원 이상)"
   ]
  },
  {
   "attachments": {
    "image.png": {
     "image/png": "[encoded data removed]"
    }
   },
   "cell_type": "markdown",
   "metadata": {},
   "source": [
    "![image.png](attachment:image.png)"
   ]
  },
  {
   "cell_type": "markdown",
   "metadata": {},
   "source": [
    "## Numpy의 기본 사용법"
   ]
  },
  {
   "cell_type": "markdown",
   "metadata": {},
   "source": [
    "Python의 Numpy 라이브러리는 List와 **상호 변환이 가능**합니다."
   ]
  },
  {
   "cell_type": "code",
   "execution_count": 1,
   "metadata": {},
   "outputs": [
    {
     "name": "stdout",
     "output_type": "stream",
     "text": [
      "3\n",
      "int32\n",
      "3\n"
     ]
    }
   ],
   "source": [
    "import numpy as np\n",
    "\n",
    "array = np.array([1, 2, 3])\n",
    "print(array.size)  # 배열의 크기\n",
    "print(array.dtype)  # 배열 원소의 타입\n",
    "print(array[2])  # 인덱스 2의 원소"
   ]
  },
  {
   "cell_type": "markdown",
   "metadata": {},
   "source": [
    "Python의 Numpy 라이브러리는 **다양한 형태의 배열을 초기화** 할 수 있습니다."
   ]
  },
  {
   "cell_type": "code",
   "execution_count": 2,
   "metadata": {},
   "outputs": [
    {
     "name": "stdout",
     "output_type": "stream",
     "text": [
      "[0 1 2 3]\n",
      "[[0. 0. 0. 0.]\n",
      " [0. 0. 0. 0.]\n",
      " [0. 0. 0. 0.]\n",
      " [0. 0. 0. 0.]]\n",
      "[['1' '1' '1']\n",
      " ['1' '1' '1']\n",
      " ['1' '1' '1']]\n",
      "[[0 7 2]\n",
      " [5 6 7]\n",
      " [4 2 2]]\n",
      "[[-1.96615085 -0.56478608  0.51408903]\n",
      " [ 0.34842589  1.05185363  1.14927602]\n",
      " [ 0.01026197 -1.58066729  1.03885371]]\n"
     ]
    }
   ],
   "source": [
    "import numpy as np\n",
    "\n",
    "# 0부터 3까지의 배열 만들기\n",
    "array1 = np.arange(4)\n",
    "print(array1)\n",
    "\n",
    "# 0으로 초기화\n",
    "array2 = np.zeros((4, 4), dtype=float)\n",
    "print(array2)\n",
    "\n",
    "# 1로 초기화\n",
    "array3 = np.ones((3, 3), dtype=str)\n",
    "print(array3)\n",
    "\n",
    "# 0부터 9까지 랜덤하게 초기화 된 배열 만들기\n",
    "array4 = np.random.randint(0, 10, (3, 3))\n",
    "print(array4)\n",
    "\n",
    "# 평균이 0이고 표준편차가 1인 표준 정규를 띄는 배열\n",
    "array5 = np.random.normal(0, 1, (3, 3))\n",
    "print(array5)"
   ]
  },
  {
   "cell_type": "markdown",
   "metadata": {},
   "source": [
    "Numpy는 **다양한 형태로 합칠** 수 있습니다."
   ]
  },
  {
   "cell_type": "code",
   "execution_count": 4,
   "metadata": {},
   "outputs": [
    {
     "name": "stdout",
     "output_type": "stream",
     "text": [
      "(6,)\n",
      "[1 2 3 4 5 6]\n"
     ]
    }
   ],
   "source": [
    "import numpy as np\n",
    "\n",
    "array1 = np.array([1, 2, 3])\n",
    "array2 = np.array([4, 5, 6])\n",
    "array3 = np.concatenate([array1, array2])\n",
    "\n",
    "print(array3.shape)\n",
    "print(array3)"
   ]
  },
  {
   "cell_type": "markdown",
   "metadata": {},
   "source": [
    "Numpy를 **위 아래로 합칠** 수 있습니다."
   ]
  },
  {
   "cell_type": "code",
   "execution_count": 7,
   "metadata": {},
   "outputs": [
    {
     "name": "stdout",
     "output_type": "stream",
     "text": [
      "(3, 4)\n",
      "[[0 1 2 3]\n",
      " [0 1 2 3]\n",
      " [4 5 6 7]]\n"
     ]
    }
   ],
   "source": [
    "import numpy as np\n",
    "\n",
    "array1 = np.arange(4).reshape(1, 4)\n",
    "array2 = np.arange(8).reshape(2, 4)\n",
    "array3 = np.concatenate([array1, array2], axis=0)\n",
    "\n",
    "print(array3.shape)\n",
    "print(array3)"
   ]
  },
  {
   "cell_type": "markdown",
   "metadata": {},
   "source": [
    "Numpy의 **형태를 변경**할 수 있습니다."
   ]
  },
  {
   "cell_type": "code",
   "execution_count": 8,
   "metadata": {},
   "outputs": [
    {
     "name": "stdout",
     "output_type": "stream",
     "text": [
      "(2, 2)\n"
     ]
    }
   ],
   "source": [
    "import numpy as np\n",
    "\n",
    "array1 = np.array([1, 2, 3, 4])\n",
    "array2 = array1.reshape((2, 2))\n",
    "print(array2.shape)"
   ]
  },
  {
   "cell_type": "markdown",
   "metadata": {},
   "source": [
    "Numpy의 **형태를 나누기** 할 수 있습니다."
   ]
  },
  {
   "cell_type": "code",
   "execution_count": 9,
   "metadata": {},
   "outputs": [
    {
     "name": "stdout",
     "output_type": "stream",
     "text": [
      "(2, 2)\n",
      "(2, 2)\n",
      "7\n"
     ]
    }
   ],
   "source": [
    "import numpy as np\n",
    "\n",
    "array = np.arange(8).reshape(2, 4)\n",
    "left, right = np.split(array, [2], axis=1)\n",
    "\n",
    "print(left.shape)\n",
    "print(right.shape)\n",
    "print(right[1][1])"
   ]
  }
 ],
 "metadata": {
  "kernelspec": {
   "display_name": "Python 3",
   "language": "python",
   "name": "python3"
  },
  "language_info": {
   "codemirror_mode": {
    "name": "ipython",
    "version": 3
   },
   "file_extension": ".py",
   "mimetype": "text/x-python",
   "name": "python",
   "nbconvert_exporter": "python",
   "pygments_lexer": "ipython3",
   "version": "3.8.3"
  }
 },
 "nbformat": 4,
 "nbformat_minor": 4
}
