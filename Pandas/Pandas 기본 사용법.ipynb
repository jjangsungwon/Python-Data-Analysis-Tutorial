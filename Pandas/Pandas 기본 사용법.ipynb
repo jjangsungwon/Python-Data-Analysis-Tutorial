{
 "cells": [
  {
   "cell_type": "markdown",
   "metadata": {},
   "source": [
    "# Pandas 기본 사용법"
   ]
  },
  {
   "cell_type": "markdown",
   "metadata": {},
   "source": [
    "### Pandas란?\n",
    "- 데이터를 효과적으로 처리하고, 보여줄 수 있도록 도와주는 라이브러리입니다.\n",
    "- Numpy와 함께 사용되어 다양한 연계적인 기능을 제공합니다.\n",
    "- 인덱스(Index)에 따라 데이터를 나열하므로 사전(Dictionary) 자료형에 가깝습니다.\n",
    "- 시리즈(Series)를 기본적인 자료형으로 사용합니다.\n",
    "- 엑셀과 유사합니다."
   ]
  },
  {
   "cell_type": "markdown",
   "metadata": {},
   "source": [
    "### Series란?\n",
    "- 시리즈는 **인덱스와 값**으로 구성됩니다."
   ]
  },
  {
   "cell_type": "code",
   "execution_count": 2,
   "metadata": {},
   "outputs": [
    {
     "name": "stdout",
     "output_type": "stream",
     "text": [
      "a     사과\n",
      "b    바나나\n",
      "c     당근\n",
      "dtype: object\n",
      "사과\n",
      "사과\n"
     ]
    }
   ],
   "source": [
    "import pandas as pd\n",
    "\n",
    "array = pd.Series(['사과', '바나나', '당근'], index=['a', 'b', 'c'])\n",
    "print(array)\n",
    "print(array['a'])\n",
    "\n",
    "# Dict 자료형을 Series로 바꾸기\n",
    "data = {\n",
    "    'a': '사과',\n",
    "    'b': '바나나',\n",
    "    'c': '당근'\n",
    "}\n",
    "array = pd.Series(data)\n",
    "print(array['a'])"
   ]
  },
  {
   "cell_type": "markdown",
   "metadata": {},
   "source": [
    "#### 시리즈의 연산\n",
    "- 시리즈를 서로 연산하여 새로운 시리즈를 만들 수 있습니다."
   ]
  },
  {
   "cell_type": "code",
   "execution_count": 6,
   "metadata": {},
   "outputs": [
    {
     "name": "stdout",
     "output_type": "stream",
     "text": [
      "       word  frequency  importance  score\n",
      "Apple    사과          3           3      9\n",
      "Banana  바나나          5           2     10\n",
      "Carrot   당근          7           1      7\n"
     ]
    }
   ],
   "source": [
    "import pandas as pd\n",
    "\n",
    "word_dict = {\n",
    "    'Apple': '사과',\n",
    "    'Banana': '바나나',\n",
    "    'Carrot': '당근'\n",
    "}\n",
    "\n",
    "frequency_dict = {\n",
    "    'Apple': 3,\n",
    "    'Banana': 5,\n",
    "    'Carrot': 7\n",
    "}\n",
    "\n",
    "importance_dict = {\n",
    "    'Apple': 3,\n",
    "    'Banana': 2,\n",
    "    'Carrot': 1\n",
    "}\n",
    "\n",
    "word = pd.Series(word_dict)\n",
    "frequency = pd.Series(frequency_dict)\n",
    "importance = pd.Series(importance_dict)\n",
    "\n",
    "summary = pd.DataFrame({\n",
    "    'word': word,\n",
    "    'frequency': frequency,\n",
    "    'importance': importance\n",
    "})\n",
    "\n",
    "score = summary['frequency'] * summary['importance']\n",
    "summary['score'] = score\n",
    "print(summary)"
   ]
  },
  {
   "cell_type": "markdown",
   "metadata": {},
   "source": [
    "#### 시리즈 자료형의 연산\n",
    "- 인덱스가 일치하는 부분끼리 계산합니다.\n",
    "- 두 시리즈에 모두 존재하지 않는 부분은 Nan 값이 나옵니다."
   ]
  },
  {
   "cell_type": "code",
   "execution_count": 27,
   "metadata": {},
   "outputs": [
    {
     "name": "stdout",
     "output_type": "stream",
     "text": [
      "A    1.0\n",
      "B    6.0\n",
      "C    8.0\n",
      "D    6.0\n",
      "dtype: float64\n"
     ]
    }
   ],
   "source": [
    "import pandas as pd\n",
    "\n",
    "array1 = pd.Series([1, 2, 3], index=['A', 'B', 'C'])\n",
    "array2 = pd.Series([4, 5, 6], index=['B', 'C', 'D'])\n",
    "\n",
    "array = array1.add(array2, fill_value=0)\n",
    "print(array)"
   ]
  },
  {
   "cell_type": "markdown",
   "metadata": {},
   "source": [
    "### 데이터 프레임이란?\n",
    "- **다수의 시리즈(Series)를 모아 처리**하기 위한 목적으로 사용합니다.\n",
    "- 표 형태로 데이터를 손쉽게 출력하고자 할 때 사용할 수 있습니다."
   ]
  },
  {
   "cell_type": "code",
   "execution_count": 15,
   "metadata": {},
   "outputs": [
    {
     "name": "stdout",
     "output_type": "stream",
     "text": [
      "       word  frequency  importance\n",
      "Apple    사과          3           3\n",
      "Banana  바나나          5           2\n",
      "Carrot   당근          7           1\n"
     ]
    }
   ],
   "source": [
    "import pandas as pd\n",
    "\n",
    "word_dict = {\n",
    "    'Apple': '사과',\n",
    "    'Banana': '바나나',\n",
    "    'Carrot': '당근'\n",
    "}\n",
    "\n",
    "frequency_dict = {\n",
    "    'Apple': 3,\n",
    "    'Banana': 5,\n",
    "    'Carrot': 7\n",
    "}\n",
    "\n",
    "importance_dict = {\n",
    "    'Apple': 3,\n",
    "    'Banana': 2,\n",
    "    'Carrot': 1\n",
    "}\n",
    "\n",
    "word = pd.Series(word_dict)\n",
    "frequency = pd.Series(frequency_dict)\n",
    "importance = pd.Series(importance_dict)\n",
    "\n",
    "summary = pd.DataFrame({\n",
    "    'word': word,\n",
    "    'frequency': frequency,\n",
    "    'importance': importance\n",
    "})\n",
    "\n",
    "print(summary)"
   ]
  },
  {
   "cell_type": "markdown",
   "metadata": {},
   "source": [
    "#### 데이터 프레임의 슬라이싱"
   ]
  },
  {
   "cell_type": "code",
   "execution_count": 16,
   "metadata": {},
   "outputs": [
    {
     "name": "stdout",
     "output_type": "stream",
     "text": [
      "        importance\n",
      "Banana           2\n",
      "Carrot           1\n",
      "        importance\n",
      "Banana           2\n",
      "Carrot           1\n"
     ]
    }
   ],
   "source": [
    "# 이름을 기준으로 슬라이싱\n",
    "print(summary.loc['Banana': 'Carrot', 'importance':])\n",
    "\n",
    "# 인덱스를 기준으로 슬라이싱\n",
    "print(summary.iloc[1:3, 2:])"
   ]
  },
  {
   "cell_type": "markdown",
   "metadata": {},
   "source": [
    "#### 데이터 프레임의 연산"
   ]
  },
  {
   "cell_type": "code",
   "execution_count": 17,
   "metadata": {},
   "outputs": [
    {
     "name": "stdout",
     "output_type": "stream",
     "text": [
      "            word  frequency  importance\n",
      "Apple         사과          3           5\n",
      "Banana       바나나          5           2\n",
      "Carrot        당근          7           1\n",
      "Elderberry  엘더베리          5           3\n"
     ]
    }
   ],
   "source": [
    "summary.loc['Apple', 'importance'] = 5  # 데이터의 변경\n",
    "summary.loc['Elderberry'] = ['엘더베리', 5, 3]  # 새 데이터 삽입\n",
    "\n",
    "print(summary)"
   ]
  },
  {
   "cell_type": "markdown",
   "metadata": {},
   "source": [
    "#### 데이터 프레임의 Null 여부 확인"
   ]
  },
  {
   "cell_type": "code",
   "execution_count": 25,
   "metadata": {},
   "outputs": [
    {
     "name": "stdout",
     "output_type": "stream",
     "text": [
      "        word  frequency  importance\n",
      "Apple   True       True        True\n",
      "Banana  True      False        True\n",
      "Carrot  True       True        True\n",
      "         word  frequency  importance\n",
      "Apple   False      False       False\n",
      "Banana  False       True       False\n",
      "Carrot  False      False       False\n",
      "       word frequency  importance\n",
      "Apple    사과         3           3\n",
      "Banana  바나나    데이터 없음           2\n",
      "Carrot   당근         7           1\n"
     ]
    }
   ],
   "source": [
    "import pandas as pd\n",
    "import numpy as np\n",
    "\n",
    "word_dict = {\n",
    "    'Apple': '사과',\n",
    "    'Banana': '바나나',\n",
    "    'Carrot': '당근'\n",
    "}\n",
    "\n",
    "frequency_dict = {\n",
    "    'Apple': 3,\n",
    "    'Banana': np.nan,\n",
    "    'Carrot': 7\n",
    "}\n",
    "\n",
    "importance_dict = {\n",
    "    'Apple': 3,\n",
    "    'Banana': 2,\n",
    "    'Carrot': 1\n",
    "}\n",
    "\n",
    "word = pd.Series(word_dict)\n",
    "frequency = pd.Series(frequency_dict)\n",
    "importance = pd.Series(importance_dict)\n",
    "\n",
    "summary = pd.DataFrame({\n",
    "    'word': word,\n",
    "    'frequency': frequency,\n",
    "    'importance': importance\n",
    "})\n",
    "\n",
    "print(summary.notnull())\n",
    "print(summary.isnull())\n",
    "summary['frequency'] = summary['frequency'].fillna('데이터 없음')\n",
    "print(summary)"
   ]
  },
  {
   "cell_type": "markdown",
   "metadata": {},
   "source": [
    "#### 데이터 프레임 집계합수"
   ]
  },
  {
   "cell_type": "code",
   "execution_count": 28,
   "metadata": {},
   "outputs": [
    {
     "name": "stdout",
     "output_type": "stream",
     "text": [
      "     0    1    2\n",
      "A  1.0  2.0  NaN\n",
      "B  4.0  6.0  3.0\n",
      "C  4.0  5.0  6.0\n",
      "D  7.0  8.0  9.0\n",
      "컬럼 1의 합: 21.0\n",
      "0    16.0\n",
      "1    21.0\n",
      "2    18.0\n",
      "dtype: float64\n"
     ]
    }
   ],
   "source": [
    "import pandas as pd\n",
    "\n",
    "array1 = pd.DataFrame([[1, 2], [3, 4]], index=['A', 'B'])\n",
    "array2 = pd.DataFrame([[1, 2, 3], [4, 5, 6], [7, 8, 9]], index=['B', 'C', 'D'])\n",
    "\n",
    "array = array1.add(array2, fill_value=0)\n",
    "print(array)\n",
    "print(\"컬럼 1의 합:\", array[1].sum())\n",
    "print(array.sum())"
   ]
  },
  {
   "cell_type": "markdown",
   "metadata": {},
   "source": [
    "#### 데이터 프레임 정렬 함수"
   ]
  },
  {
   "cell_type": "code",
   "execution_count": 32,
   "metadata": {},
   "outputs": [
    {
     "name": "stdout",
     "output_type": "stream",
     "text": [
      "       word  frequency  importance\n",
      "Carrot   당근          7           1\n",
      "Banana  바나나          4           2\n",
      "Apple    사과          3           3\n"
     ]
    }
   ],
   "source": [
    "import pandas as pd\n",
    "import numpy as np\n",
    "\n",
    "word_dict = {\n",
    "    'Apple': '사과',\n",
    "    'Banana': '바나나',\n",
    "    'Carrot': '당근'\n",
    "}\n",
    "\n",
    "frequency_dict = {\n",
    "    'Apple': 3,\n",
    "    'Banana': 4,\n",
    "    'Carrot': 7\n",
    "}\n",
    "\n",
    "importance_dict = {\n",
    "    'Apple': 3,\n",
    "    'Banana': 2,\n",
    "    'Carrot': 1\n",
    "}\n",
    "\n",
    "word = pd.Series(word_dict)\n",
    "frequency = pd.Series(frequency_dict)\n",
    "importance = pd.Series(importance_dict)\n",
    "\n",
    "summary = pd.DataFrame({\n",
    "    'word': word,\n",
    "    'frequency': frequency,\n",
    "    'importance': importance\n",
    "})\n",
    "\n",
    "summary = summary.sort_values('frequency', ascending=False)\n",
    "print(summary)"
   ]
  },
  {
   "cell_type": "markdown",
   "metadata": {},
   "source": [
    "#### 데이터 프레임의 마스킹"
   ]
  },
  {
   "cell_type": "code",
   "execution_count": 34,
   "metadata": {},
   "outputs": [
    {
     "name": "stdout",
     "output_type": "stream",
     "text": [
      "   A  B\n",
      "0  1  5\n",
      "1  2  1\n",
      "0    True\n",
      "1    True\n",
      "Name: A, dtype: bool\n",
      "   A  B\n",
      "0  1  5\n",
      "1  2  1\n"
     ]
    }
   ],
   "source": [
    "import numpy as np\n",
    "import pandas as pd\n",
    "\n",
    "df = pd.DataFrame(np.random.randint(1, 10, (2, 2)), index=[0, 1], columns=[\"A\", \"B\"])\n",
    "# 데이터 프레임 출력하기\n",
    "print(df)\n",
    "# 컬럼 A의 각 원소가 5보다 작거나 같은지 출력\n",
    "print(df[\"A\"] <= 5)\n",
    "# 컬럼 A의 원소가 5보다 작고, 컬럼 B의 원소가 8보다 작은 행 추출\n",
    "print(df.query(\"A <= 5 and B <= 8\"))"
   ]
  },
  {
   "cell_type": "markdown",
   "metadata": {},
   "source": [
    "#### 데이터 프레임의 개별 연산 ①"
   ]
  },
  {
   "cell_type": "code",
   "execution_count": 35,
   "metadata": {},
   "outputs": [
    {
     "name": "stdout",
     "output_type": "stream",
     "text": [
      "   A  B  C  D\n",
      "0  1  2  3  4\n",
      "1  1  2  3  4\n",
      "   A  B  C  D\n",
      "0  2  3  4  5\n",
      "1  2  3  4  5\n",
      "   A  B  C  D\n",
      "0  3  4  5  6\n",
      "1  3  4  5  6\n"
     ]
    }
   ],
   "source": [
    "import pandas as pd\n",
    "\n",
    "df = pd.DataFrame([[1, 2, 3, 4], [1, 2, 3, 4]], index=[0, 1], columns=[\"A\", \"B\", \"C\", \"D\"])\n",
    "print(df)\n",
    "\n",
    "df = df.apply(lambda x: x + 1)\n",
    "print(df)\n",
    "\n",
    "def addOne(x):\n",
    "    return x + 1\n",
    "  \n",
    "df = df.apply(addOne)\n",
    "print(df)"
   ]
  },
  {
   "cell_type": "markdown",
   "metadata": {},
   "source": [
    "#### 데이터 프레임의 개별 연산 ②"
   ]
  },
  {
   "cell_type": "code",
   "execution_count": 36,
   "metadata": {},
   "outputs": [
    {
     "name": "stdout",
     "output_type": "stream",
     "text": [
      "        A       B       C       D\n",
      "0   Apple   Apple  Carrot  Banana\n",
      "1  Durian  Banana   Apple  Carrot\n",
      "         A        B        C       D\n",
      "0  Airport  Airport   Carrot  Banana\n",
      "1   Durian   Banana  Airport  Carrot\n"
     ]
    }
   ],
   "source": [
    "import pandas as pd\n",
    "\n",
    "df = pd.DataFrame([\n",
    "    ['Apple', 'Apple', 'Carrot', 'Banana'],\n",
    "    ['Durian', 'Banana', 'Apple', 'Carrot']],\n",
    "    index=[0, 1],\n",
    "    columns=[\"A\", \"B\", \"C\", \"D\"])\n",
    "\n",
    "print(df)\n",
    "df = df.replace({\"Apple\": \"Airport\"})  # Apple -> Airport로 변환\n",
    "print(df)"
   ]
  },
  {
   "cell_type": "markdown",
   "metadata": {},
   "source": [
    "#### 데이터 프레임의 그룹화 ①"
   ]
  },
  {
   "cell_type": "code",
   "execution_count": 37,
   "metadata": {},
   "outputs": [
    {
     "name": "stdout",
     "output_type": "stream",
     "text": [
      "     Name  Frequency   Type\n",
      "0   Apple          7  Fruit\n",
      "1  Banana          3  Fruit\n",
      "2    Beef          5   Meal\n",
      "3  Kimchi          4   Meal\n",
      "       Frequency\n",
      "Type            \n",
      "Fruit         10\n",
      "Meal           9\n"
     ]
    }
   ],
   "source": [
    "import pandas as pd\n",
    "\n",
    "df = pd.DataFrame([\n",
    "    ['Apple', 7, 'Fruit'],\n",
    "    ['Banana', 3, 'Fruit'],\n",
    "    ['Beef', 5, 'Meal'],\n",
    "    ['Kimchi', 4, 'Meal']],\n",
    "    columns=[\"Name\", \"Frequency\", \"Type\"])\n",
    "\n",
    "print(df)\n",
    "print(df.groupby(['Type']).sum())"
   ]
  },
  {
   "cell_type": "markdown",
   "metadata": {},
   "source": [
    "#### 데이터 프레임의 그룹화 ②"
   ]
  },
  {
   "cell_type": "code",
   "execution_count": 39,
   "metadata": {},
   "outputs": [
    {
     "name": "stdout",
     "output_type": "stream",
     "text": [
      "     Name  Frequency  Importance   Type\n",
      "0   Apple          7           5  Fruit\n",
      "1  Banana          3           6  Fruit\n",
      "2    Beef          5           2   Meal\n",
      "3  Kimchi          4           8   Meal\n",
      "      Frequency             Importance            \n",
      "            min max average        min max average\n",
      "Type                                              \n",
      "Fruit         3   7     5.0          5   6     5.5\n",
      "Meal          4   5     4.5          2   8     5.0\n"
     ]
    }
   ],
   "source": [
    "import numpy as np\n",
    "import pandas as pd\n",
    "\n",
    "df = pd.DataFrame([\n",
    "    ['Apple', 7, 5, 'Fruit'],\n",
    "    ['Banana', 3, 6, 'Fruit'],\n",
    "    ['Beef', 5, 2, 'Meal'],\n",
    "    ['Kimchi', 4, 8, 'Meal']],\n",
    "    columns=[\"Name\", \"Frequency\", \"Importance\", \"Type\"])\n",
    "\n",
    "print(df)\n",
    "print(df.groupby([\"Type\"]).aggregate([min, max, np.average]))"
   ]
  },
  {
   "cell_type": "markdown",
   "metadata": {},
   "source": [
    "#### 데이터 프레임의 그룹화 ③"
   ]
  },
  {
   "cell_type": "code",
   "execution_count": 40,
   "metadata": {},
   "outputs": [
    {
     "name": "stdout",
     "output_type": "stream",
     "text": [
      "     Name  Frequency  Importance   Type\n",
      "0   Apple          7           5  Fruit\n",
      "1  Banana          3           6  Fruit\n",
      "2    Beef          5           2   Meal\n",
      "3  Kimchi          4           8   Meal\n",
      "     Name  Frequency  Importance   Type\n",
      "0   Apple          7           5  Fruit\n",
      "1  Banana          3           6  Fruit\n"
     ]
    }
   ],
   "source": [
    "import pandas as pd\n",
    "\n",
    "df = pd.DataFrame([\n",
    "    ['Apple', 7, 5, 'Fruit'],\n",
    "    ['Banana', 3, 6, 'Fruit'],\n",
    "    ['Beef', 5, 2, 'Meal'],\n",
    "    ['Kimchi', 4, 8, 'Meal']],\n",
    "    columns=[\"Name\", \"Frequency\", \"Importance\", \"Type\"])\n",
    "\n",
    "\n",
    "def my_filter(data):\n",
    "    return data[\"Frequency\"].mean() >= 5\n",
    "\n",
    "\n",
    "print(df)\n",
    "df = df.groupby(\"Type\").filter(my_filter)\n",
    "print(df)"
   ]
  },
  {
   "cell_type": "markdown",
   "metadata": {},
   "source": [
    "#### 데이터 프레임의 그룹화 ④"
   ]
  },
  {
   "cell_type": "code",
   "execution_count": 41,
   "metadata": {},
   "outputs": [
    {
     "name": "stdout",
     "output_type": "stream",
     "text": [
      "     Name  Frequency  Importance   Type\n",
      "0   Apple          7           5  Fruit\n",
      "1  Banana          3           6  Fruit\n"
     ]
    }
   ],
   "source": [
    "import pandas as pd\n",
    "\n",
    "df = pd.DataFrame([\n",
    "    ['Apple', 7, 5, 'Fruit'],\n",
    "    ['Banana', 3, 6, 'Fruit'],\n",
    "    ['Beef', 5, 2, 'Meal'],\n",
    "    ['Kimchi', 4, 8, 'Meal']],\n",
    "    columns=[\"Name\", \"Frequency\", \"Importance\", \"Type\"])\n",
    "\n",
    "df = df.groupby(\"Type\").get_group(\"Fruit\")\n",
    "print(df)"
   ]
  },
  {
   "cell_type": "markdown",
   "metadata": {},
   "source": [
    "#### 데이터 프레임의 그룹화 ⑤"
   ]
  },
  {
   "cell_type": "code",
   "execution_count": 42,
   "metadata": {},
   "outputs": [
    {
     "name": "stdout",
     "output_type": "stream",
     "text": [
      "     Name  Frequency  Importance   Type  Gap\n",
      "0   Apple          7           5  Fruit  2.0\n",
      "1  Banana          3           6  Fruit -2.0\n",
      "2    Beef          5           2   Meal  0.5\n",
      "3  Kimchi          4           8   Meal -0.5\n"
     ]
    }
   ],
   "source": [
    "import pandas as pd\n",
    "\n",
    "df = pd.DataFrame([\n",
    "    ['Apple', 7, 5, 'Fruit'],\n",
    "    ['Banana', 3, 6, 'Fruit'],\n",
    "    ['Beef', 5, 2, 'Meal'],\n",
    "    ['Kimchi', 4, 8, 'Meal']],\n",
    "    columns=[\"Name\", \"Frequency\", \"Importance\", \"Type\"])\n",
    "\n",
    "df[\"Gap\"] = df.groupby(\"Type\")[\"Frequency\"].apply(lambda x: x - x.mean())\n",
    "print(df)"
   ]
  },
  {
   "cell_type": "markdown",
   "metadata": {},
   "source": [
    "#### 데이터 프레임의 다중화"
   ]
  },
  {
   "cell_type": "code",
   "execution_count": 43,
   "metadata": {},
   "outputs": [
    {
     "name": "stdout",
     "output_type": "stream",
     "text": [
      "       1회  2회  3회  4회\n",
      "1차 공격   2   5   5   2\n",
      "   수비   3   3   7   1\n",
      "2차 공격   2   8   6   6\n",
      "   수비   6   3   6   3\n",
      "    1회  2회\n",
      "공격   2   8\n",
      "수비   6   3\n"
     ]
    }
   ],
   "source": [
    "import numpy as np\n",
    "import pandas as pd\n",
    "\n",
    "df = pd.DataFrame(\n",
    "    np.random.randint(1, 10, (4, 4)),\n",
    "    index=[['1차', '1차', '2차', '2차'], ['공격', '수비', '공격', '수비']],\n",
    "    columns=['1회', '2회', '3회', '4회']\n",
    ")\n",
    "\n",
    "print(df)\n",
    "print(df[[\"1회\", \"2회\"]].loc[\"2차\"])"
   ]
  },
  {
   "cell_type": "markdown",
   "metadata": {},
   "source": [
    "#### 피벗 테이블의 기초"
   ]
  },
  {
   "cell_type": "code",
   "execution_count": 44,
   "metadata": {},
   "outputs": [
    {
     "name": "stdout",
     "output_type": "stream",
     "text": [
      "      Name  Frequency  Importance   Type\n",
      "0    Apple          7           5  Fruit\n",
      "1   Banana          3           6  Fruit\n",
      "2  Coconut          2           6  Fruit\n",
      "3     Rice          8           2   Meal\n",
      "4     Beef          5           2   Meal\n",
      "5   Kimchi          4           8   Meal\n",
      "Type        Fruit  Meal\n",
      "Importance             \n",
      "2             NaN   8.0\n",
      "5             7.0   NaN\n",
      "6             3.0   NaN\n",
      "8             NaN   4.0\n"
     ]
    }
   ],
   "source": [
    "import numpy as np\n",
    "import pandas as pd\n",
    "\n",
    "df = pd.DataFrame([\n",
    "    ['Apple', 7, 5, 'Fruit'],\n",
    "    ['Banana', 3, 6, 'Fruit'],\n",
    "    ['Coconut', 2, 6, 'Fruit'],\n",
    "    ['Rice', 8, 2, 'Meal'],\n",
    "    ['Beef', 5, 2, 'Meal'],\n",
    "    ['Kimchi', 4, 8, 'Meal']],\n",
    "   columns=[\"Name\", \"Frequency\", \"Importance\", \"Type\"])\n",
    "\n",
    "print(df)\n",
    "df = df.pivot_table(\n",
    "    index=\"Importance\", columns=\"Type\", values=\"Frequency\",\n",
    "    aggfunc=np.max\n",
    ")\n",
    "print(df)"
   ]
  },
  {
   "cell_type": "markdown",
   "metadata": {},
   "source": [
    "### 엑셀로 내보내기/불러오기"
   ]
  },
  {
   "cell_type": "code",
   "execution_count": 21,
   "metadata": {},
   "outputs": [
    {
     "name": "stdout",
     "output_type": "stream",
     "text": [
      "   Unnamed: 0  word  frequency  importance\n",
      "0       Apple    사과          3           5\n",
      "1      Banana   바나나          5           2\n",
      "2      Carrot    당근          7           1\n",
      "3  Elderberry  엘더베리          5           3\n"
     ]
    }
   ],
   "source": [
    "summary.to_csv(\"summary.csv\", encoding=\"utf-8-sig\")\n",
    "saved = pd.read_csv(\"summary.csv\", index_col=0)\n",
    "print(saved)"
   ]
  }
 ],
 "metadata": {
  "kernelspec": {
   "display_name": "Python 3",
   "language": "python",
   "name": "python3"
  },
  "language_info": {
   "codemirror_mode": {
    "name": "ipython",
    "version": 3
   },
   "file_extension": ".py",
   "mimetype": "text/x-python",
   "name": "python",
   "nbconvert_exporter": "python",
   "pygments_lexer": "ipython3",
   "version": "3.8.3"
  }
 },
 "nbformat": 4,
 "nbformat_minor": 4
}
