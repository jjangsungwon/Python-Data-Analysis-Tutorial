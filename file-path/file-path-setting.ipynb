{
 "cells": [
  {
   "cell_type": "markdown",
   "metadata": {},
   "source": [
    "# file path setting"
   ]
  },
  {
   "cell_type": "markdown",
   "metadata": {},
   "source": [
    "### %mv"
   ]
  },
  {
   "cell_type": "markdown",
   "metadata": {},
   "source": [
    "- `%mv ~/Dow + tab 키`를 누르면 자동으로 다운로드 폴더가 자동 완성 됩니다.\n",
    "- 만약 '%mv' not found 에러가 나오면 %mv를 !move로 수정하고 /를 \\로 수정하면 됩니다.\n",
    "- 제일 마지막에 공백 + 온점은 파일을 현재 위치로 옮긴다는 의미입니다."
   ]
  },
  {
   "cell_type": "code",
   "execution_count": 5,
   "metadata": {},
   "outputs": [
    {
     "name": "stdout",
     "output_type": "stream",
     "text": [
      "        1개 파일을 이동했습니다.\n"
     ]
    }
   ],
   "source": [
    "!move C:\\Users\\sw\\Downloads\\도로교통공단_월별_교통사고_통계_20191231.csv ."
   ]
  },
  {
   "cell_type": "markdown",
   "metadata": {},
   "source": [
    "### pwd\n",
    "- 주피터 노트북이 있는 폴더의 경로를 출력합니다."
   ]
  },
  {
   "cell_type": "code",
   "execution_count": 10,
   "metadata": {},
   "outputs": [
    {
     "data": {
      "text/plain": [
       "'C:\\\\Users\\\\sw\\\\Documents\\\\Python-Data-Analysis-and-Image-Processing-Tutorial\\\\file-path'"
      ]
     },
     "execution_count": 10,
     "metadata": {},
     "output_type": "execute_result"
    }
   ],
   "source": [
    "%pwd"
   ]
  },
  {
   "cell_type": "markdown",
   "metadata": {},
   "source": [
    "### %ls\n",
    "- 현재 폴더에 있는 파일 혹은 폴더를 보여줍니다."
   ]
  },
  {
   "cell_type": "code",
   "execution_count": 6,
   "metadata": {},
   "outputs": [
    {
     "name": "stdout",
     "output_type": "stream",
     "text": [
      " C 드라이브의 볼륨에는 이름이 없습니다.\n",
      " 볼륨 일련 번호: 7483-6E43\n",
      "\n",
      " C:\\Users\\sw\\Documents\\Python-Data-Analysis-and-Image-Processing-Tutorial\\file-path 디렉터리\n",
      "\n",
      "2021-01-31  오후 10:59    <DIR>          .\n",
      "2021-01-31  오후 10:59    <DIR>          ..\n",
      "2021-01-31  오후 10:51    <DIR>          .ipynb_checkpoints\n",
      "2021-01-31  오후 10:59             1,368 file-path-setting.ipynb\n",
      "2021-01-31  오후 10:53               404 도로교통공단_월별_교통사고_통계_20191231.csv\n",
      "               2개 파일               1,772 바이트\n",
      "               3개 디렉터리  101,455,839,232 바이트 남음\n"
     ]
    }
   ],
   "source": [
    "%ls"
   ]
  },
  {
   "cell_type": "code",
   "execution_count": 7,
   "metadata": {},
   "outputs": [],
   "source": [
    "import pandas as pd"
   ]
  },
  {
   "cell_type": "code",
   "execution_count": 9,
   "metadata": {},
   "outputs": [
    {
     "data": {
      "text/html": [
       "<div>\n",
       "<style scoped>\n",
       "    .dataframe tbody tr th:only-of-type {\n",
       "        vertical-align: middle;\n",
       "    }\n",
       "\n",
       "    .dataframe tbody tr th {\n",
       "        vertical-align: top;\n",
       "    }\n",
       "\n",
       "    .dataframe thead th {\n",
       "        text-align: right;\n",
       "    }\n",
       "</style>\n",
       "<table border=\"1\" class=\"dataframe\">\n",
       "  <thead>\n",
       "    <tr style=\"text-align: right;\">\n",
       "      <th></th>\n",
       "      <th>월</th>\n",
       "      <th>사고건수</th>\n",
       "      <th>사망자수</th>\n",
       "      <th>중상자수</th>\n",
       "      <th>경상자수</th>\n",
       "      <th>부상신고자수</th>\n",
       "    </tr>\n",
       "  </thead>\n",
       "  <tbody>\n",
       "    <tr>\n",
       "      <th>0</th>\n",
       "      <td>1</td>\n",
       "      <td>16552</td>\n",
       "      <td>296</td>\n",
       "      <td>5487</td>\n",
       "      <td>17249</td>\n",
       "      <td>1533</td>\n",
       "    </tr>\n",
       "    <tr>\n",
       "      <th>1</th>\n",
       "      <td>2</td>\n",
       "      <td>14752</td>\n",
       "      <td>203</td>\n",
       "      <td>4772</td>\n",
       "      <td>16410</td>\n",
       "      <td>1430</td>\n",
       "    </tr>\n",
       "    <tr>\n",
       "      <th>2</th>\n",
       "      <td>3</td>\n",
       "      <td>18133</td>\n",
       "      <td>252</td>\n",
       "      <td>5806</td>\n",
       "      <td>19390</td>\n",
       "      <td>1712</td>\n",
       "    </tr>\n",
       "    <tr>\n",
       "      <th>3</th>\n",
       "      <td>4</td>\n",
       "      <td>19104</td>\n",
       "      <td>286</td>\n",
       "      <td>6224</td>\n",
       "      <td>20305</td>\n",
       "      <td>1909</td>\n",
       "    </tr>\n",
       "    <tr>\n",
       "      <th>4</th>\n",
       "      <td>5</td>\n",
       "      <td>20779</td>\n",
       "      <td>305</td>\n",
       "      <td>6573</td>\n",
       "      <td>22332</td>\n",
       "      <td>2172</td>\n",
       "    </tr>\n",
       "    <tr>\n",
       "      <th>5</th>\n",
       "      <td>6</td>\n",
       "      <td>18968</td>\n",
       "      <td>279</td>\n",
       "      <td>6057</td>\n",
       "      <td>20139</td>\n",
       "      <td>2119</td>\n",
       "    </tr>\n",
       "    <tr>\n",
       "      <th>6</th>\n",
       "      <td>7</td>\n",
       "      <td>19234</td>\n",
       "      <td>241</td>\n",
       "      <td>5885</td>\n",
       "      <td>20392</td>\n",
       "      <td>2076</td>\n",
       "    </tr>\n",
       "    <tr>\n",
       "      <th>7</th>\n",
       "      <td>8</td>\n",
       "      <td>19992</td>\n",
       "      <td>253</td>\n",
       "      <td>6182</td>\n",
       "      <td>21953</td>\n",
       "      <td>2223</td>\n",
       "    </tr>\n",
       "    <tr>\n",
       "      <th>8</th>\n",
       "      <td>9</td>\n",
       "      <td>19331</td>\n",
       "      <td>287</td>\n",
       "      <td>5917</td>\n",
       "      <td>20711</td>\n",
       "      <td>2118</td>\n",
       "    </tr>\n",
       "    <tr>\n",
       "      <th>9</th>\n",
       "      <td>10</td>\n",
       "      <td>21690</td>\n",
       "      <td>337</td>\n",
       "      <td>6953</td>\n",
       "      <td>22790</td>\n",
       "      <td>2307</td>\n",
       "    </tr>\n",
       "    <tr>\n",
       "      <th>10</th>\n",
       "      <td>11</td>\n",
       "      <td>21517</td>\n",
       "      <td>297</td>\n",
       "      <td>6567</td>\n",
       "      <td>22887</td>\n",
       "      <td>2169</td>\n",
       "    </tr>\n",
       "    <tr>\n",
       "      <th>11</th>\n",
       "      <td>12</td>\n",
       "      <td>19548</td>\n",
       "      <td>313</td>\n",
       "      <td>5883</td>\n",
       "      <td>20966</td>\n",
       "      <td>2114</td>\n",
       "    </tr>\n",
       "  </tbody>\n",
       "</table>\n",
       "</div>"
      ],
      "text/plain": [
       "     월   사고건수  사망자수  중상자수   경상자수  부상신고자수\n",
       "0    1  16552   296  5487  17249    1533\n",
       "1    2  14752   203  4772  16410    1430\n",
       "2    3  18133   252  5806  19390    1712\n",
       "3    4  19104   286  6224  20305    1909\n",
       "4    5  20779   305  6573  22332    2172\n",
       "5    6  18968   279  6057  20139    2119\n",
       "6    7  19234   241  5885  20392    2076\n",
       "7    8  19992   253  6182  21953    2223\n",
       "8    9  19331   287  5917  20711    2118\n",
       "9   10  21690   337  6953  22790    2307\n",
       "10  11  21517   297  6567  22887    2169\n",
       "11  12  19548   313  5883  20966    2114"
      ]
     },
     "execution_count": 9,
     "metadata": {},
     "output_type": "execute_result"
    }
   ],
   "source": [
    "pd.read_csv(\"data/도로교통공단_월별_교통사고_통계_20191231.csv\", encoding=\"cp949\")"
   ]
  }
 ],
 "metadata": {
  "kernelspec": {
   "display_name": "Python 3",
   "language": "python",
   "name": "python3"
  },
  "language_info": {
   "codemirror_mode": {
    "name": "ipython",
    "version": 3
   },
   "file_extension": ".py",
   "mimetype": "text/x-python",
   "name": "python",
   "nbconvert_exporter": "python",
   "pygments_lexer": "ipython3",
   "version": "3.8.3"
  }
 },
 "nbformat": 4,
 "nbformat_minor": 4
}
